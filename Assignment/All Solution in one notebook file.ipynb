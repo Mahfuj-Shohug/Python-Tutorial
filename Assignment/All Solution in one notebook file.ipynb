{
 "cells": [
  {
   "cell_type": "markdown",
   "metadata": {},
   "source": [
    "## Problem 1 \n",
    "Given two integer numbers return their product. \n",
    "If the product is greater than 1000, then return their sum."
   ]
  },
  {
   "cell_type": "code",
   "execution_count": 1,
   "metadata": {},
   "outputs": [
    {
     "name": "stdout",
     "output_type": "stream",
     "text": [
      "Sum of those integer =  1500\n"
     ]
    }
   ],
   "source": [
    "num_1 = 1000\n",
    "num_2 = 500\n",
    "product = 1100\n",
    "if (product > 1000):\n",
    "    print('Sum of those integer = ', num_1+num_2)\n",
    "else:\n",
    "    print('Their product is = ', product)"
   ]
  },
  {
   "cell_type": "markdown",
   "metadata": {},
   "source": [
    "## problem 2\n",
    "Given a range of the first 10 numbers, Iterate from the start number to the end number, \n",
    "and In each iteration\n",
    "print the sum of the current number and previous number"
   ]
  },
  {
   "cell_type": "code",
   "execution_count": 2,
   "metadata": {},
   "outputs": [
    {
     "name": "stdout",
     "output_type": "stream",
     "text": [
      "0\n",
      "Sum from the current number and previous number is =  0\n",
      "1\n",
      "Sum from the current number and previous number is =  1\n",
      "2\n",
      "Sum from the current number and previous number is =  3\n",
      "3\n",
      "Sum from the current number and previous number is =  6\n",
      "4\n",
      "Sum from the current number and previous number is =  10\n",
      "5\n",
      "Sum from the current number and previous number is =  15\n",
      "6\n",
      "Sum from the current number and previous number is =  21\n",
      "7\n",
      "Sum from the current number and previous number is =  28\n",
      "8\n",
      "Sum from the current number and previous number is =  36\n",
      "9\n",
      "Sum from the current number and previous number is =  45\n"
     ]
    }
   ],
   "source": [
    "sum = 0\n",
    "for i in range(10):\n",
    "    print(i)\n",
    "    sum = sum + i\n",
    "    print('Sum from the current number and previous number is = ', sum)"
   ]
  },
  {
   "cell_type": "markdown",
   "metadata": {},
   "source": [
    "## Problem 3\n",
    "Print First 10 natural numbers using while loop."
   ]
  },
  {
   "cell_type": "code",
   "execution_count": 3,
   "metadata": {},
   "outputs": [
    {
     "name": "stdout",
     "output_type": "stream",
     "text": [
      "1\n",
      "2\n",
      "3\n",
      "4\n",
      "5\n",
      "6\n",
      "7\n",
      "8\n",
      "9\n",
      "10\n"
     ]
    }
   ],
   "source": [
    "i = 1\n",
    "n = 10\n",
    "while(i <= n):\n",
    "    print(i)\n",
    "    i = i+1"
   ]
  },
  {
   "cell_type": "markdown",
   "metadata": {},
   "source": [
    "## Problem 4\n",
    "Accept number from user and calculate the sum of all number from 1 to a given number"
   ]
  },
  {
   "cell_type": "code",
   "execution_count": 4,
   "metadata": {},
   "outputs": [
    {
     "name": "stdout",
     "output_type": "stream",
     "text": [
      "Enter an Entiger Number = 10\n",
      "The sum of all number from 1 to your given number =  45\n"
     ]
    }
   ],
   "source": [
    "input_number = int(input('Enter an Entiger Number = '))\n",
    "i = 1\n",
    "sum = 0\n",
    "for i in range(input_number):\n",
    "    sum = sum + i\n",
    "\n",
    "print('The sum of all number from 1 to your given number = ', sum)"
   ]
  },
  {
   "cell_type": "markdown",
   "metadata": {},
   "source": [
    "## Problem 5\n",
    "Given a list, iterate it, and display numbers divisible by five, \n",
    "and if you find a number greater than 150, stop the loop iteration."
   ]
  },
  {
   "cell_type": "code",
   "execution_count": 5,
   "metadata": {},
   "outputs": [
    {
     "name": "stdout",
     "output_type": "stream",
     "text": [
      "Number is divided by 5 =  20\n",
      "Number is divided by 5 =  40\n",
      "Number is divided by 5 =  60\n",
      "Number is divided by 5 =  70\n",
      "Number is divided by 5 =  90\n",
      "Number is divided by 5 =  130\n",
      "Oh no this is gatter then 150\n"
     ]
    }
   ],
   "source": [
    "list_num = [20, 33, 40, 54, 60, 70, 82, 88, 90, 122, 130, 142, 155]\n",
    "for i in list_num:\n",
    "    if i < 150:\n",
    "        if (i % 5 == 0):\n",
    "            print('Number is divided by 5 = ', i)\n",
    "    else:\n",
    "        print('Oh no this is gatter then 150')\n",
    "        break"
   ]
  },
  {
   "cell_type": "markdown",
   "metadata": {},
   "source": [
    "## Problem 6\n",
    "Reverse the following list using for loop"
   ]
  },
  {
   "cell_type": "code",
   "execution_count": 6,
   "metadata": {},
   "outputs": [
    {
     "name": "stdout",
     "output_type": "stream",
     "text": [
      "155\n",
      "142\n",
      "130\n",
      "122\n",
      "90\n",
      "88\n",
      "82\n",
      "70\n",
      "60\n",
      "54\n",
      "40\n",
      "33\n",
      "20\n"
     ]
    }
   ],
   "source": [
    "for i in reversed(list_num):\n",
    "    print(i)"
   ]
  },
  {
   "cell_type": "markdown",
   "metadata": {},
   "source": [
    "## Problem 7\n",
    "'''Display “My Name Is James” as “My**Name**Is**James” using output formatting of a print() function\n",
    "For example: print('My', 'Name', 'Is', 'Tamim') will display MyNameIsJames\n",
    "So use one of the formatting argument of print() to turn the output into My**Name**Is**Tamim"
   ]
  },
  {
   "cell_type": "code",
   "execution_count": 7,
   "metadata": {},
   "outputs": [
    {
     "name": "stdout",
     "output_type": "stream",
     "text": [
      "My Name Is Tamim\n",
      "My**Name**Is**James\n"
     ]
    }
   ],
   "source": [
    "# Sample\n",
    "print('My', 'Name', 'Is', 'Tamim')\n",
    "# solution\n",
    "arg = '**'\n",
    "print('My'+arg+'Name'+arg+'Is'+arg+'James')\n"
   ]
  },
  {
   "cell_type": "markdown",
   "metadata": {},
   "source": [
    "## Problem 8\n",
    "Concatenate two lists index-wise"
   ]
  },
  {
   "cell_type": "code",
   "execution_count": 8,
   "metadata": {},
   "outputs": [
    {
     "name": "stdout",
     "output_type": "stream",
     "text": [
      "['Mahfuj:Anika', 'faruk:Shallu']\n"
     ]
    }
   ],
   "source": [
    "list_1 = ['Mahfuj:', 'faruk:']\n",
    "list_2 = ['Anika', 'Shallu']\n",
    "list_3 = [i + j for i, j in zip(list_1, list_2)]\n",
    "\n",
    "print(list_3)"
   ]
  },
  {
   "cell_type": "markdown",
   "metadata": {},
   "source": [
    "## Problem 9\n",
    "Given a Python list of numbers. Turn every item of a list into its square"
   ]
  },
  {
   "cell_type": "code",
   "execution_count": 9,
   "metadata": {},
   "outputs": [
    {
     "name": "stdout",
     "output_type": "stream",
     "text": [
      "100\n",
      "400\n",
      "625\n",
      "1600\n",
      "225\n",
      "324\n",
      "900\n"
     ]
    }
   ],
   "source": [
    "list_number = [10, 20, 25, 40, 15, 18, 30]\n",
    "for i in list_number:\n",
    "    list_number = i**2\n",
    "    print(list_number)"
   ]
  },
  {
   "cell_type": "markdown",
   "metadata": {},
   "source": [
    "## Problem 10\n",
    "Access value 20 from the following \n",
    "tuple -> aTuple = (\"Orange\", [10, 20, 30], (5, 15, 25))"
   ]
  },
  {
   "cell_type": "code",
   "execution_count": 10,
   "metadata": {},
   "outputs": [
    {
     "name": "stdout",
     "output_type": "stream",
     "text": [
      "20\n"
     ]
    }
   ],
   "source": [
    "a_tuple = (\"Orange\", [10, 20, 30], (5, 15, 25))\n",
    "# Access value 20\n",
    "print(a_tuple[1][1])"
   ]
  },
  {
   "cell_type": "markdown",
   "metadata": {},
   "source": [
    "All solution is here "
   ]
  }
 ],
 "metadata": {
  "kernelspec": {
   "display_name": "Python 3",
   "language": "python",
   "name": "python3"
  },
  "language_info": {
   "codemirror_mode": {
    "name": "ipython",
    "version": 3
   },
   "file_extension": ".py",
   "mimetype": "text/x-python",
   "name": "python",
   "nbconvert_exporter": "python",
   "pygments_lexer": "ipython3",
   "version": "3.8.5"
  }
 },
 "nbformat": 4,
 "nbformat_minor": 4
}
